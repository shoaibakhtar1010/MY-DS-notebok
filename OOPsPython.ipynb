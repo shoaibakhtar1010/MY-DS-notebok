{
  "nbformat": 4,
  "nbformat_minor": 0,
  "metadata": {
    "colab": {
      "name": "OOPsPython.ipynb",
      "provenance": [],
      "authorship_tag": "ABX9TyPXjBbru87rhiDMnBM76LR0",
      "include_colab_link": true
    },
    "kernelspec": {
      "name": "python3",
      "display_name": "Python 3"
    },
    "language_info": {
      "name": "python"
    }
  },
  "cells": [
    {
      "cell_type": "markdown",
      "metadata": {
        "id": "view-in-github",
        "colab_type": "text"
      },
      "source": [
        "<a href=\"https://colab.research.google.com/github/shoaibakhtar1010/MY-DS-notebok/blob/main/OOPsPython.ipynb\" target=\"_parent\"><img src=\"https://colab.research.google.com/assets/colab-badge.svg\" alt=\"Open In Colab\"/></a>"
      ]
    },
    {
      "cell_type": "code",
      "metadata": {
        "id": "u7sQSfcP5ufU"
      },
      "source": [
        "class NameOfClass():\n",
        "  class_object= 'param'\n",
        "  def __init__(self,param1,param2):  # initialization method\n",
        "    self.param1=param1               # param1 and param2 are the parameters python\n",
        "    self.param2=param2               # expect us to pass  (instance variable)\n",
        "\n",
        "  def some_method(self):\n",
        "       #variable=0\n",
        "       if self.param1>self.param2:\n",
        "        variable=self.param1+self.param2\n",
        "        return variable\n",
        "  \n",
        "  def some_other_method(self,attr1,attr2,attr3):   # method where parameters should be\n",
        "    if attr1>self.param1:                          # passed before calling\n",
        "      variable2=self.param2+attr2+sttr3"
      ],
      "execution_count": null,
      "outputs": []
    },
    {
      "cell_type": "code",
      "metadata": {
        "id": "32UuO6RHHWcQ"
      },
      "source": [
        "obj1=NameOfClass('shoaib','shaikh')"
      ],
      "execution_count": null,
      "outputs": []
    },
    {
      "cell_type": "code",
      "metadata": {
        "colab": {
          "base_uri": "https://localhost:8080/",
          "height": 35
        },
        "id": "8Xn1TQ5gLj-w",
        "outputId": "1a208591-3ca7-4a33-bdda-76ffb0bd7f55"
      },
      "source": [
        "obj1.param1"
      ],
      "execution_count": null,
      "outputs": [
        {
          "output_type": "execute_result",
          "data": {
            "application/vnd.google.colaboratory.intrinsic+json": {
              "type": "string"
            },
            "text/plain": [
              "'shoaib'"
            ]
          },
          "metadata": {},
          "execution_count": 4
        }
      ]
    },
    {
      "cell_type": "code",
      "metadata": {
        "colab": {
          "base_uri": "https://localhost:8080/",
          "height": 35
        },
        "id": "t2mpRniRLmlj",
        "outputId": "703e9651-0740-48a4-9b5f-c9c4db9e5ec5"
      },
      "source": [
        "obj1.param2"
      ],
      "execution_count": null,
      "outputs": [
        {
          "output_type": "execute_result",
          "data": {
            "application/vnd.google.colaboratory.intrinsic+json": {
              "type": "string"
            },
            "text/plain": [
              "'shaikh'"
            ]
          },
          "metadata": {},
          "execution_count": 5
        }
      ]
    },
    {
      "cell_type": "code",
      "metadata": {
        "id": "sn0p4DfTLqF5"
      },
      "source": [
        "obj1=NameOfClass(5,2)"
      ],
      "execution_count": null,
      "outputs": []
    },
    {
      "cell_type": "code",
      "metadata": {
        "colab": {
          "base_uri": "https://localhost:8080/"
        },
        "id": "HrtafbHyGB9T",
        "outputId": "facd96f9-444b-4574-b858-05225c094a91"
      },
      "source": [
        "k=obj1.some_method()\n",
        "k"
      ],
      "execution_count": null,
      "outputs": [
        {
          "output_type": "execute_result",
          "data": {
            "text/plain": [
              "7"
            ]
          },
          "metadata": {},
          "execution_count": 18
        }
      ]
    },
    {
      "cell_type": "code",
      "metadata": {
        "id": "zPtX_7pfGGNX",
        "colab": {
          "base_uri": "https://localhost:8080/"
        },
        "outputId": "45d15f2c-8cc9-49ab-dfe3-23f51be2ba6b"
      },
      "source": [
        "pip install enforce"
      ],
      "execution_count": null,
      "outputs": [
        {
          "output_type": "stream",
          "name": "stdout",
          "text": [
            "Collecting enforce\n",
            "  Downloading enforce-0.3.4-py3-none-any.whl (30 kB)\n",
            "Requirement already satisfied: wrapt in /usr/local/lib/python3.7/dist-packages (from enforce) (1.12.1)\n",
            "Installing collected packages: enforce\n",
            "Successfully installed enforce-0.3.4\n"
          ]
        }
      ]
    },
    {
      "cell_type": "code",
      "metadata": {
        "id": "_E23ep2MGNjI"
      },
      "source": [
        "\n",
        "   \n",
        "class Vehicle():\n",
        "  def __init__(self,number,state):\n",
        "    self.number=number\n",
        "    self.state=state\n",
        "\n",
        "class Car():\n",
        "  number_tyres=4\n",
        "  def __init__(self,brand,color,price):\n",
        "    self.brand=brand\n",
        "    self.color=color\n",
        "    self.price=price\n",
        "\n",
        "\n",
        "class Tesla(Vehicle,Car):\n",
        "  def __init__(self,number,state,brand,color,price,mileage):\n",
        "    Vehicle.__init__(self,number,state)\n",
        "    Car.__init__(self,brand,color,price)\n",
        "    self.mileage=mileage"
      ],
      "execution_count": null,
      "outputs": []
    },
    {
      "cell_type": "code",
      "metadata": {
        "id": "1YkUevSTG_P_"
      },
      "source": [
        "a=Tesla(12345,'karnataka','audi','black',2000000,300)"
      ],
      "execution_count": null,
      "outputs": []
    },
    {
      "cell_type": "code",
      "metadata": {
        "colab": {
          "base_uri": "https://localhost:8080/"
        },
        "id": "e4eFPNkHHYxi",
        "outputId": "43d93eef-983f-44bc-890a-bb5aba7cc8a6"
      },
      "source": [
        "a.number"
      ],
      "execution_count": null,
      "outputs": [
        {
          "output_type": "execute_result",
          "data": {
            "text/plain": [
              "12345"
            ]
          },
          "metadata": {},
          "execution_count": 30
        }
      ]
    },
    {
      "cell_type": "code",
      "metadata": {
        "id": "VCbCoi5EHc8l"
      },
      "source": [
        "#multiple\n",
        "class Vehicle():\n",
        "  def __init__(self,number,state):\n",
        "    self.number=number\n",
        "    self.state=state\n",
        "class Car():\n",
        "  number_tyres=4\n",
        "  def __init__(self,brand,color,price):\n",
        "    self.brand=brand\n",
        "    self.color=color\n",
        "    self.price=price\n",
        "class Tesla(Vehicle,Car):\n",
        "  def __init__(self,number,state,brand,color,price,mileage):\n",
        "    Vehicle.__init__(self,number,state)\n",
        "    Car.__init__(self,brand,color,price)\n",
        "    self.mileage=mileage"
      ],
      "execution_count": null,
      "outputs": []
    },
    {
      "cell_type": "code",
      "metadata": {
        "id": "BUqIHMdcJXGW"
      },
      "source": [
        "#multilevel\n",
        "class Vehicle():\n",
        "  def __init__(self,number,state):\n",
        "    self.number=number\n",
        "    self.state=state\n",
        "class Car():\n",
        "  number_tyres=4\n",
        "  def __init__(self,brand,color,price,number,state):\n",
        "    Vehicle.__init__(self,number,state)\n",
        "    self.brand=brand\n",
        "    self.color=color\n",
        "    self.price=price\n",
        "class Tesla(Car):\n",
        "  def __init__(self,brand,color,price,number,state,mileage):\n",
        "    Car.__init__(self,brand,color,price,number,state)\n",
        "    self.mileage=mileage"
      ],
      "execution_count": null,
      "outputs": []
    },
    {
      "cell_type": "code",
      "metadata": {
        "id": "wH7RMQIlJ8T9"
      },
      "source": [
        "#single\n",
        "class Car():\n",
        "  number_tyres=4\n",
        "  def __init__(self,brand,color,price):\n",
        "    self.brand=brand\n",
        "    self.color=color\n",
        "    self.price=price\n",
        "class Tesla(Car):\n",
        "  def __init__(self,mileage):   \n",
        "    Car.__init__(self,brand,color,price)           #subclassing\n",
        "    self.mileage=mileage\n",
        "    #pass"
      ],
      "execution_count": null,
      "outputs": []
    },
    {
      "cell_type": "code",
      "metadata": {
        "colab": {
          "base_uri": "https://localhost:8080/",
          "height": 282
        },
        "id": "qYP5n2S2_bgC",
        "outputId": "475b914d-6a0b-49f1-9d8c-3b2a5c61d796"
      },
      "source": [
        "a=Tesla(200)"
      ],
      "execution_count": null,
      "outputs": [
        {
          "output_type": "error",
          "ename": "NameError",
          "evalue": "ignored",
          "traceback": [
            "\u001b[0;31m---------------------------------------------------------------------------\u001b[0m",
            "\u001b[0;31mNameError\u001b[0m                                 Traceback (most recent call last)",
            "\u001b[0;32m<ipython-input-41-b4cc6fdafb29>\u001b[0m in \u001b[0;36m<module>\u001b[0;34m()\u001b[0m\n\u001b[0;32m----> 1\u001b[0;31m \u001b[0ma\u001b[0m\u001b[0;34m=\u001b[0m\u001b[0mTesla\u001b[0m\u001b[0;34m(\u001b[0m\u001b[0;36m200\u001b[0m\u001b[0;34m)\u001b[0m\u001b[0;34m\u001b[0m\u001b[0;34m\u001b[0m\u001b[0m\n\u001b[0m",
            "\u001b[0;32m<ipython-input-40-d2757cb4b04b>\u001b[0m in \u001b[0;36m__init__\u001b[0;34m(self, mileage)\u001b[0m\n\u001b[1;32m      8\u001b[0m \u001b[0;32mclass\u001b[0m \u001b[0mTesla\u001b[0m\u001b[0;34m(\u001b[0m\u001b[0mCar\u001b[0m\u001b[0;34m)\u001b[0m\u001b[0;34m:\u001b[0m\u001b[0;34m\u001b[0m\u001b[0;34m\u001b[0m\u001b[0m\n\u001b[1;32m      9\u001b[0m   \u001b[0;32mdef\u001b[0m \u001b[0m__init__\u001b[0m\u001b[0;34m(\u001b[0m\u001b[0mself\u001b[0m\u001b[0;34m,\u001b[0m\u001b[0mmileage\u001b[0m\u001b[0;34m)\u001b[0m\u001b[0;34m:\u001b[0m\u001b[0;34m\u001b[0m\u001b[0;34m\u001b[0m\u001b[0m\n\u001b[0;32m---> 10\u001b[0;31m     \u001b[0mCar\u001b[0m\u001b[0;34m.\u001b[0m\u001b[0m__init__\u001b[0m\u001b[0;34m(\u001b[0m\u001b[0mself\u001b[0m\u001b[0;34m,\u001b[0m\u001b[0mbrand\u001b[0m\u001b[0;34m,\u001b[0m\u001b[0mcolor\u001b[0m\u001b[0;34m,\u001b[0m\u001b[0mprice\u001b[0m\u001b[0;34m)\u001b[0m           \u001b[0;31m#subclassing\u001b[0m\u001b[0;34m\u001b[0m\u001b[0;34m\u001b[0m\u001b[0m\n\u001b[0m\u001b[1;32m     11\u001b[0m     \u001b[0mself\u001b[0m\u001b[0;34m.\u001b[0m\u001b[0mmileage\u001b[0m\u001b[0;34m=\u001b[0m\u001b[0mmileage\u001b[0m\u001b[0;34m\u001b[0m\u001b[0;34m\u001b[0m\u001b[0m\n\u001b[1;32m     12\u001b[0m     \u001b[0;31m#pass\u001b[0m\u001b[0;34m\u001b[0m\u001b[0;34m\u001b[0m\u001b[0;34m\u001b[0m\u001b[0m\n",
            "\u001b[0;31mNameError\u001b[0m: name 'brand' is not defined"
          ]
        }
      ]
    },
    {
      "cell_type": "code",
      "metadata": {
        "colab": {
          "base_uri": "https://localhost:8080/",
          "height": 163
        },
        "id": "oxxChwQ2_b4g",
        "outputId": "2eb6f8cf-6355-42c4-948d-6151c1af3130"
      },
      "source": [
        "a.brand"
      ],
      "execution_count": null,
      "outputs": [
        {
          "output_type": "error",
          "ename": "AttributeError",
          "evalue": "ignored",
          "traceback": [
            "\u001b[0;31m---------------------------------------------------------------------------\u001b[0m",
            "\u001b[0;31mAttributeError\u001b[0m                            Traceback (most recent call last)",
            "\u001b[0;32m<ipython-input-39-d3034c33cb53>\u001b[0m in \u001b[0;36m<module>\u001b[0;34m()\u001b[0m\n\u001b[0;32m----> 1\u001b[0;31m \u001b[0ma\u001b[0m\u001b[0;34m.\u001b[0m\u001b[0mbrand\u001b[0m\u001b[0;34m\u001b[0m\u001b[0;34m\u001b[0m\u001b[0m\n\u001b[0m",
            "\u001b[0;31mAttributeError\u001b[0m: 'Tesla' object has no attribute 'brand'"
          ]
        }
      ]
    },
    {
      "cell_type": "code",
      "metadata": {
        "id": "AM9tG8erJ-Ua"
      },
      "source": [
        "class Vegetable():\n",
        "  def __init__(self,name,quantity,price):\n",
        "    self.name=name\n",
        "    self.quantity=quantity\n",
        "    self.price=price\n",
        "  def total_amt(self):\n",
        "    amt=self.quantity*self.price\n",
        "    return amt\n",
        "class Mushroom(Vegetable):\n",
        "  def __init__(self,name,quantity,price):   \n",
        "    super().__init__(self,name,quantity,price)           #subclassing\n",
        "  def total_amt(self):\n",
        "    #you can add some extra code before\n",
        "    super().total_amt()\n",
        "    # you can add some extra code after"
      ],
      "execution_count": null,
      "outputs": []
    },
    {
      "cell_type": "code",
      "metadata": {
        "id": "zrKTWiF3rg10"
      },
      "source": [
        "class Vegetable():\n",
        "  def __init__(self,name,quantity,price):\n",
        "    self.name=name\n",
        "    self.quantity=quantity\n",
        "    self.price=price\n",
        "  def total_amt(self):\n",
        "    amt=self.quantity*self.price\n",
        "    return amt\n",
        "class Mushroom(Vegetable):\n",
        "  def __init__(self,name,quantity,price):   \n",
        "    super().__init__(self,name,quantity,price)           #subclassing\n",
        "  def total_amt(self):\n",
        "    #you can add some extra code before\n",
        "    super().total_amt()\n",
        "    # you can add some extra code after"
      ],
      "execution_count": null,
      "outputs": []
    },
    {
      "cell_type": "code",
      "metadata": {
        "id": "CFCsTdQ2rfOY"
      },
      "source": [
        "class Vegetable():\n",
        "  def __init__(self,name,quantity,price):\n",
        "    self.name=name\n",
        "    self.quantity=quantity\n",
        "    self.price=price\n",
        "  def total_amt(self):\n",
        "    amt=self.quantity*self.price\n",
        "    return amt\n",
        "class Mushroom(Vegetable):\n",
        "  def __init__(self,name,quantity,price):   \n",
        "    super().__init__(self,name,quantity,price)           #subclassing\n",
        "  def total_amt(self):\n",
        "    #you can add some extra code before\n",
        "    super().total_amt()\n",
        "    # you can add some extra code after"
      ],
      "execution_count": null,
      "outputs": []
    },
    {
      "cell_type": "code",
      "metadata": {
        "colab": {
          "base_uri": "https://localhost:8080/"
        },
        "id": "5EBaES9eCjWe",
        "outputId": "2c6d56a9-fa48-4095-8086-d262fd11ce0f"
      },
      "source": [
        "class bicycle:\n",
        "    def fuel(self):\n",
        "        print('bicycle doesn’t need any fuel!')\n",
        "    def capacity(self):\n",
        "        print('bicycles are suitable for single person ride')\n",
        "\n",
        "class electric_bike:\n",
        "    def fuel(self):\n",
        "        print('electric bikes run on battery')\n",
        "    def capacity(self):\n",
        "        print('electric bikes are suitable for maximum  of 2 people')\n",
        "\n",
        "class petrol_bike:\n",
        "    def fuel(self):\n",
        "        print('petrol bike runs on petrol')\n",
        "    def capacity(self):\n",
        "        print('petrol bikes are suitable for maximum of 2 people')\n",
        "       \n",
        "ecobike=bicycle()\n",
        "ebike=electric_bike()\n",
        "pbike=petrol_bike()\n",
        "l=[ecobike,ebike,pbike]\n",
        "\n",
        "for obj in l:\n",
        "    obj.fuel()\n",
        "    obj.capacity()"
      ],
      "execution_count": null,
      "outputs": [
        {
          "output_type": "stream",
          "name": "stdout",
          "text": [
            "bicycle doesn’t need any fuel!\n",
            "bicycles are suitable for single person ride\n",
            "electric bikes run on battery\n",
            "electric bikes are suitable for maximum  of 2 people\n",
            "petrol bike runs on petrol\n",
            "petrol bikes are suitable for maximum of 2 people\n"
          ]
        }
      ]
    },
    {
      "cell_type": "code",
      "metadata": {
        "colab": {
          "base_uri": "https://localhost:8080/"
        },
        "id": "0SEHhhhlCknA",
        "outputId": "64015c22-c57b-4e47-d00a-e655d81bd160"
      },
      "source": [
        "class two_wheeler:\n",
        "    def fuel(self):\n",
        "        print('two wheeler needs fuel to run')\n",
        "    def capacity(self):\n",
        "        print('bikes are suitable for a maximum of 2 people')\n",
        "\n",
        "class electric_bike(two_wheeler):\n",
        "    def fuel(self):\n",
        "        print('electric bikes run on a battery')\n",
        "class petrol_bike(two_wheeler):\n",
        "    def fuel(self):\n",
        "        print('petrol bike runs on petrol')       \n",
        "bike=two_wheeler()\n",
        "ebike=electric_bike()\n",
        "pbike=petrol_bike()\n",
        "\n",
        "bike.fuel()\n",
        "bike.capacity()\n",
        "ebike.fuel()\n",
        "ebike.capacity()\n",
        "pbike.fuel()\n",
        "pbike.capacity()"
      ],
      "execution_count": null,
      "outputs": [
        {
          "output_type": "stream",
          "name": "stdout",
          "text": [
            "two wheeler needs fuel to run\n",
            "bikes are suitable for a maximum of 2 people\n",
            "electric bikes run on a battery\n",
            "bikes are suitable for a maximum of 2 people\n",
            "petrol bike runs on petrol\n",
            "bikes are suitable for a maximum of 2 people\n"
          ]
        }
      ]
    },
    {
      "cell_type": "code",
      "metadata": {
        "id": "yTZNVPMGG4hw"
      },
      "source": [
        "#super function\n",
        "class Vegetable():\n",
        "  def __init__(self,name,quantity,price):\n",
        "    self.name=name\n",
        "    self.quantity=quantity\n",
        "    self.price=price\n",
        "  def total_amt(self):\n",
        "    amt=self.quantity*self.price\n",
        "    return amt\n",
        "class Mushroom(Vegetable):\n",
        "  def __init__(self,name,quantity,price):   \n",
        "    super().__init__(self,name,quantity,price)           #subclassing\n",
        "  def total_amt(self):\n",
        "    #you can add some extra code before\n",
        "    super().total_amt()\n",
        "    # you can add some extra code after\n"
      ],
      "execution_count": null,
      "outputs": []
    },
    {
      "cell_type": "code",
      "metadata": {
        "colab": {
          "base_uri": "https://localhost:8080/",
          "height": 129
        },
        "id": "-BH5hlwg0wT5",
        "outputId": "caad0c31-022c-4267-e868-22aff1208eef"
      },
      "source": [
        ""
      ],
      "execution_count": null,
      "outputs": [
        {
          "output_type": "error",
          "ename": "IndentationError",
          "evalue": "ignored",
          "traceback": [
            "\u001b[0;36m  File \u001b[0;32m\"<ipython-input-5-806530821121>\"\u001b[0;36m, line \u001b[0;32m6\u001b[0m\n\u001b[0;31m    self.Empid=id\u001b[0m\n\u001b[0m                 ^\u001b[0m\n\u001b[0;31mIndentationError\u001b[0m\u001b[0;31m:\u001b[0m unindent does not match any outer indentation level\n"
          ]
        }
      ]
    },
    {
      "cell_type": "code",
      "metadata": {
        "colab": {
          "base_uri": "https://localhost:8080/"
        },
        "id": "sv5v74bj17L7",
        "outputId": "79084b94-ca86-4224-e0ef-1de541008045"
      },
      "source": [
        "# program to illustrate public access modifier in a class\n",
        "class Employee():\n",
        "  # constructor\n",
        "  def __init__(self,id,name,age):\n",
        "    # public data mambers\n",
        "    self.Empid=id\n",
        "    self.EmpName = name\n",
        "    self.EmpAge = age\n",
        "  # public member function\n",
        "  def print_name_Age(self):\n",
        "    print(f\"Employee name is {self.EmpName} and Age is {self.EmpAge} \")\n",
        "\n",
        "# creating object of the class\n",
        "obj = Employee(123,\"shoaib\", 22)\n",
        "# accessing public data member\n",
        "print(\"Name: \", obj.EmpName)\n",
        "\n",
        "# calling public member function of the class\n",
        "obj.print_name_Age()\n"
      ],
      "execution_count": null,
      "outputs": [
        {
          "output_type": "stream",
          "name": "stdout",
          "text": [
            "Name:  shoaib\n",
            "Employee name is shoaib and Age is 22 \n"
          ]
        }
      ]
    },
    {
      "cell_type": "code",
      "metadata": {
        "id": "czsrFxbK3MC6"
      },
      "source": [
        "# program to illustrate protected access modifier in a class\n",
        " \n",
        "# super class\n",
        "class Employee():\n",
        "    \n",
        "     # protected class attribute\n",
        "     _company_name = \"TCS\"\n",
        "     # constructor\n",
        "     def __init__(self, id,name,role,department,age): \n",
        "      \n",
        "          self.id=id\n",
        "           # protected instance attribute\n",
        "          self._name = name\n",
        "          self._role=role\n",
        "          self._department = department\n",
        "          self._age=age\n",
        "    \n",
        "     # protected member function  \n",
        "     def _displayRoleAndBranch(self):\n",
        "        # accessing protected data members\n",
        "          print(\"Role: \", self._role)\n",
        "          print(\"Department: \", self._department)\n",
        " \n",
        " \n",
        "# derived class\n",
        "class Manager(Employee):\n",
        "      # constructor\n",
        "       def __init__(self, id,name,role,department,age):\n",
        "                Employee.__init__(self, id,name,role,department,age)\n",
        "         \n",
        "       # public member function\n",
        "       def displayDetails(self):\n",
        "                # accessing protected data members of super class\n",
        "                print(\"Name: \", self._name)\n",
        "              # accessing protected member functions of super class\n",
        "                self._displayRoleAndBranch()\n",
        " \n",
        "# creating objects of the derived class       \n",
        "obj = Employee(123,\"Shoaib\",'Data analyst', \"Information Technology\",21)\n",
        "# calling public member functions of the class\n",
        "#obj.displayDetails()"
      ],
      "execution_count": null,
      "outputs": []
    },
    {
      "cell_type": "code",
      "metadata": {
        "colab": {
          "base_uri": "https://localhost:8080/",
          "height": 35
        },
        "id": "LtkC_tg38Hge",
        "outputId": "ba01a68f-2c87-45ed-e012-89616282ef5d"
      },
      "source": [
        "obj._name"
      ],
      "execution_count": null,
      "outputs": [
        {
          "output_type": "execute_result",
          "data": {
            "application/vnd.google.colaboratory.intrinsic+json": {
              "type": "string"
            },
            "text/plain": [
              "'Shoaib'"
            ]
          },
          "metadata": {},
          "execution_count": 24
        }
      ]
    },
    {
      "cell_type": "code",
      "metadata": {
        "colab": {
          "base_uri": "https://localhost:8080/"
        },
        "id": "7zsUR8NSAOgB",
        "outputId": "00a4b590-da37-41a7-9d61-a7c7a40e8d8e"
      },
      "source": [
        "class employee(object):\n",
        "  def __init__(self):   \n",
        "    self.name = 1234\n",
        "    self._age = 1234\n",
        "    self.__salary = 1234\n",
        " \n",
        "object1 = employee()\n",
        "print(object1.name)\n",
        "print(object1._age)\n",
        "#print(object1.__salary)"
      ],
      "execution_count": null,
      "outputs": [
        {
          "output_type": "stream",
          "name": "stdout",
          "text": [
            "1234\n",
            "1234\n"
          ]
        }
      ]
    },
    {
      "cell_type": "code",
      "metadata": {
        "colab": {
          "base_uri": "https://localhost:8080/"
        },
        "id": "dA-FOhAwE-yX",
        "outputId": "39cec07f-e15b-429e-8ff8-c9a3b9cbdcfb"
      },
      "source": [
        "# program to illustrate private access modifier in a class\n",
        " \n",
        "class Employee():\n",
        "      # constructor\n",
        "     def __init__(self,id, name, role,department,age):\n",
        "          self.id=id\n",
        "          #private instance attribute\n",
        "          self.__name = name\n",
        "          self.__role = role\n",
        "          self.__department = department\n",
        "          self.__age=age\n",
        " \n",
        "     # private member function \n",
        "     def __displayDetails(self):\n",
        "           \n",
        "           # accessing private data members\n",
        "           print(\"ID:\",self.id)\n",
        "           print(\"Name: \", self.__name)\n",
        "           print(\"Role: \", self.__role)\n",
        "           print(\"Branch: \", self.__department)\n",
        "           print(\"Age:\",self.__age)\n",
        "    \n",
        "     # public member function\n",
        "     def accessPrivateFunction(self):\n",
        "            \n",
        "           # accesing private member function\n",
        "           self.__displayDetails() \n",
        " \n",
        "# creating object   \n",
        "obj = Employee(123,\"Shoaibakhtar\", 'Data analyst', \"Information Technology\",22)\n",
        " \n",
        "# calling public member function of the class\n",
        "obj.accessPrivateFunction()"
      ],
      "execution_count": null,
      "outputs": [
        {
          "output_type": "stream",
          "name": "stdout",
          "text": [
            "ID: 123\n",
            "Name:  Shoaibakhtar\n",
            "Role:  Data analyst\n",
            "Branch:  Information Technology\n",
            "Age: 22\n"
          ]
        }
      ]
    },
    {
      "cell_type": "code",
      "metadata": {
        "colab": {
          "base_uri": "https://localhost:8080/",
          "height": 163
        },
        "id": "GhZxP8MMFAZZ",
        "outputId": "dab53034-df84-4c14-b578-fe6d4a07ad26"
      },
      "source": [
        "obj.__name"
      ],
      "execution_count": null,
      "outputs": [
        {
          "output_type": "error",
          "ename": "AttributeError",
          "evalue": "ignored",
          "traceback": [
            "\u001b[0;31m---------------------------------------------------------------------------\u001b[0m",
            "\u001b[0;31mAttributeError\u001b[0m                            Traceback (most recent call last)",
            "\u001b[0;32m<ipython-input-31-92e3fe1f3a36>\u001b[0m in \u001b[0;36m<module>\u001b[0;34m()\u001b[0m\n\u001b[0;32m----> 1\u001b[0;31m \u001b[0mobj\u001b[0m\u001b[0;34m.\u001b[0m\u001b[0m__name\u001b[0m\u001b[0;34m\u001b[0m\u001b[0;34m\u001b[0m\u001b[0m\n\u001b[0m",
            "\u001b[0;31mAttributeError\u001b[0m: 'Employee' object has no attribute '__name'"
          ]
        }
      ]
    },
    {
      "cell_type": "code",
      "metadata": {
        "id": "FAJFvt5XJkn3"
      },
      "source": [
        "class Obj:\n",
        "    \"\"\"property demo\"\"\"\n",
        "    #\n",
        "    @property            # first decorate the getter method\n",
        "    def attribute(self): # This getter method name is *the* name\n",
        "        return self._attribute\n",
        "    #\n",
        "    @attribute.setter    # the property decorates with `.setter` now\n",
        "    def attribute(self, value):   # name, e.g. \"attribute\", is the same\n",
        "        self._attribute = value   # the \"value\" name isn't special\n",
        "    #\n",
        "    @attribute.deleter     # decorate with `.deleter`\n",
        "    def attribute(self):   # again, the method name is the same\n",
        "        del self._attribute"
      ],
      "execution_count": null,
      "outputs": []
    },
    {
      "cell_type": "code",
      "metadata": {
        "id": "sUD1y_ozWUz4"
      },
      "source": [
        "class Employee(object):\n",
        "    def __init__(self,id):\n",
        "        self.id = id\n",
        "        self._name='x'     #protected\n",
        "        self.__role='undefined'    #private\n",
        "\n",
        "    @property\n",
        "    def name(self):\n",
        "        \"\"\"I'm the 'Employee' protected variable\"\"\"\n",
        "        print(\"getter of name called\")\n",
        "        return self._name\n",
        "\n",
        "    @name.setter\n",
        "    def name(self, value):\n",
        "        print(\"setter of name called\")\n",
        "        self._name = value\n",
        "\n",
        "    @name.deleter\n",
        "    def name(self):\n",
        "        print(\"deleter of name called\")\n",
        "        del self._name\n",
        "    @property\n",
        "    def role(self):\n",
        "        \"\"\"I'm the 'Employee' private variable\"\"\"\n",
        "        print(\"getter of name called\")\n",
        "        return self._name\n",
        "\n",
        "    @role.setter\n",
        "    def role(self, value):\n",
        "        print(\"setter of role called\")\n",
        "        self.__role = value\n",
        "\n",
        "    @role.deleter\n",
        "    def role(self):\n",
        "        print(\"deleter of role called\")\n",
        "        del self.__role"
      ],
      "execution_count": 22,
      "outputs": []
    },
    {
      "cell_type": "code",
      "metadata": {
        "id": "83vrPFYsVu4Y"
      },
      "source": [
        "shoaib=Employee(123)"
      ],
      "execution_count": 23,
      "outputs": []
    },
    {
      "cell_type": "code",
      "metadata": {
        "colab": {
          "base_uri": "https://localhost:8080/"
        },
        "id": "K7BcvYkrW9DW",
        "outputId": "9502bf1f-7b1e-4f90-a2ec-aeb56e04d1df"
      },
      "source": [
        "shoaib.name='shoaib'"
      ],
      "execution_count": 24,
      "outputs": [
        {
          "output_type": "stream",
          "name": "stdout",
          "text": [
            "setter of name called\n"
          ]
        }
      ]
    },
    {
      "cell_type": "code",
      "metadata": {
        "colab": {
          "base_uri": "https://localhost:8080/",
          "height": 52
        },
        "id": "l0lfZUvLXjKo",
        "outputId": "664e56b1-01f7-4940-d82c-fb635b7a464f"
      },
      "source": [
        "shoaib.name"
      ],
      "execution_count": 25,
      "outputs": [
        {
          "output_type": "stream",
          "name": "stdout",
          "text": [
            "getter of name called\n"
          ]
        },
        {
          "output_type": "execute_result",
          "data": {
            "application/vnd.google.colaboratory.intrinsic+json": {
              "type": "string"
            },
            "text/plain": [
              "'shoaib'"
            ]
          },
          "metadata": {},
          "execution_count": 25
        }
      ]
    },
    {
      "cell_type": "code",
      "metadata": {
        "colab": {
          "base_uri": "https://localhost:8080/"
        },
        "id": "TfyUogOBZVAL",
        "outputId": "c292a07c-2b52-44bb-c1c1-6f873682fc73"
      },
      "source": [
        "# Python program showing the use of\n",
        "# @property\n",
        "  \n",
        "class Geeks:\n",
        "     def __init__(self):\n",
        "          self._age = 0\n",
        "       \n",
        "     # using property decorator\n",
        "     # a getter function\n",
        "     @property\n",
        "     def age(self):\n",
        "         print(\"getter method called\")\n",
        "         return self._age\n",
        "       \n",
        "     # a setter function\n",
        "     @age.setter\n",
        "     def age(self, a):\n",
        "         if(a < 18):\n",
        "            raise ValueError(\"Sorry you age is below eligibility criteria\")\n",
        "         print(\"setter method called\")\n",
        "         self._age = a\n",
        "  \n",
        "mark = Geeks()\n",
        "  \n",
        "mark.age = 19\n",
        "  \n",
        "print(mark.age)"
      ],
      "execution_count": 17,
      "outputs": [
        {
          "output_type": "stream",
          "name": "stdout",
          "text": [
            "setter method called\n",
            "getter method called\n",
            "19\n"
          ]
        }
      ]
    },
    {
      "cell_type": "code",
      "metadata": {
        "colab": {
          "base_uri": "https://localhost:8080/"
        },
        "id": "xjDsW6VPZtrf",
        "outputId": "968078a1-ce1c-471d-c6a0-435a98d24fb6"
      },
      "source": [
        "shoaib.id"
      ],
      "execution_count": 18,
      "outputs": [
        {
          "output_type": "execute_result",
          "data": {
            "text/plain": [
              "123"
            ]
          },
          "metadata": {},
          "execution_count": 18
        }
      ]
    },
    {
      "cell_type": "code",
      "metadata": {
        "id": "y0k3QgdyZ2nL"
      },
      "source": [
        "shoaib._name='ff'"
      ],
      "execution_count": 21,
      "outputs": []
    },
    {
      "cell_type": "code",
      "metadata": {
        "id": "xE-9WCU-Z5gl"
      },
      "source": [
        "\n",
        "from abc import ABC,abstractmethod\n",
        " \n",
        "class Employee(ABC):\n",
        "    @abstractmethod\n",
        "    def print_id_department(self):\n",
        "        pass\n",
        "class Manager(Employee):\n",
        "    def __init__(self,id,department):\n",
        "      self.id=id\n",
        "      self.department=department\n",
        "    def print_id_department(self):\n",
        "        print(f\"ID is {self.id} and Department is {self.department}\")\n",
        " \n",
        "class CEO(Employee):\n",
        "    def __init__(self,id,department):\n",
        "      self.id=id\n",
        "      self.department=department\n",
        "    #def print_id_department(self):\n",
        "        #print(f\"ID is {self.id} and Department is {self.department}\")\n",
        " \n"
      ],
      "execution_count": 2,
      "outputs": []
    },
    {
      "cell_type": "code",
      "metadata": {
        "id": "1tzjpZ6KyDxf"
      },
      "source": [
        "obj1=Manager(121,'IT')"
      ],
      "execution_count": 3,
      "outputs": []
    },
    {
      "cell_type": "code",
      "metadata": {
        "colab": {
          "base_uri": "https://localhost:8080/",
          "height": 35
        },
        "id": "jbHZnaPl4gXB",
        "outputId": "73e3e580-72f0-4515-98aa-d8b61c3e318b"
      },
      "source": [
        "obj1.department"
      ],
      "execution_count": 4,
      "outputs": [
        {
          "output_type": "execute_result",
          "data": {
            "application/vnd.google.colaboratory.intrinsic+json": {
              "type": "string"
            },
            "text/plain": [
              "'IT'"
            ]
          },
          "metadata": {},
          "execution_count": 4
        }
      ]
    },
    {
      "cell_type": "code",
      "metadata": {
        "colab": {
          "base_uri": "https://localhost:8080/",
          "height": 163
        },
        "id": "OLfWAigY4jY7",
        "outputId": "fba82bd1-a2e8-4da6-cee2-bbcecd2eb814"
      },
      "source": [
        "obj2=CEO(122,'Finance')"
      ],
      "execution_count": 5,
      "outputs": [
        {
          "output_type": "error",
          "ename": "TypeError",
          "evalue": "ignored",
          "traceback": [
            "\u001b[0;31m---------------------------------------------------------------------------\u001b[0m",
            "\u001b[0;31mTypeError\u001b[0m                                 Traceback (most recent call last)",
            "\u001b[0;32m<ipython-input-5-ccdb2bf6fa61>\u001b[0m in \u001b[0;36m<module>\u001b[0;34m()\u001b[0m\n\u001b[0;32m----> 1\u001b[0;31m \u001b[0mobj2\u001b[0m\u001b[0;34m=\u001b[0m\u001b[0mCEO\u001b[0m\u001b[0;34m(\u001b[0m\u001b[0;36m122\u001b[0m\u001b[0;34m,\u001b[0m\u001b[0;34m'Finance'\u001b[0m\u001b[0;34m)\u001b[0m\u001b[0;34m\u001b[0m\u001b[0;34m\u001b[0m\u001b[0m\n\u001b[0m",
            "\u001b[0;31mTypeError\u001b[0m: Can't instantiate abstract class CEO with abstract methods print_id_department"
          ]
        }
      ]
    },
    {
      "cell_type": "code",
      "metadata": {
        "id": "P9LdD1il4k8b"
      },
      "source": [
        ""
      ],
      "execution_count": null,
      "outputs": []
    }
  ]
}